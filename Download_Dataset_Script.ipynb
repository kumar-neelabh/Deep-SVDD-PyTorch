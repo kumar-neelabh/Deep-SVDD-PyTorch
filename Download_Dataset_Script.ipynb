{
  "nbformat": 4,
  "nbformat_minor": 0,
  "metadata": {
    "colab": {
      "name": "Download Dataset Script.ipynb",
      "version": "0.3.2",
      "provenance": [],
      "collapsed_sections": [],
      "include_colab_link": true
    },
    "kernelspec": {
      "name": "python3",
      "display_name": "Python 3"
    },
    "accelerator": "GPU"
  },
  "cells": [
    {
      "cell_type": "markdown",
      "metadata": {
        "id": "view-in-github",
        "colab_type": "text"
      },
      "source": [
        "<a href=\"https://colab.research.google.com/github/kumar-neelabh/Deep-SVDD-PyTorch/blob/medical-imaging/Download_Dataset_Script.ipynb\" target=\"_parent\"><img src=\"https://colab.research.google.com/assets/colab-badge.svg\" alt=\"Open In Colab\"/></a>"
      ]
    },
    {
      "cell_type": "markdown",
      "metadata": {
        "id": "1euXUsNBL5do",
        "colab_type": "text"
      },
      "source": [
        "# Script to download the NIH Chest X-Rays Dataset\n",
        "Places the images in the Deep-SVDD-PyTorch/data/chest_xrays/raw/images folder\n",
        "\n",
        "Instructions :\n",
        "1. Please place your kaggle API token 'kaggle.json' in the same directory as this notebook"
      ]
    },
    {
      "cell_type": "code",
      "metadata": {
        "id": "Hb_3DaGOWDtS",
        "colab_type": "code",
        "colab": {}
      },
      "source": [
        "'''\n",
        "Script to download the NIH Chest X-Rays Dataset\n",
        "Places the images in the Deep-SVDD-PyTorch/data/chest_xrays/raw/images folder\n",
        "'''\n",
        "def download_xray():\n",
        "    !pip install -1 kaggle\n",
        "    import os\n",
        "    \n",
        "    xp_path = (os.getcwd() + '/data/chest_xrays/raw/images').replace(' ', '\\ ')\n",
        "    \n",
        "    !mkdir -p ~/.kaggle\n",
        "    !cp kaggle.json ~/.kaggle/\n",
        "\n",
        "    !kaggle datasets download -d nih-chest-xrays/sample -p $xp_path --force"
      ],
      "execution_count": 0,
      "outputs": []
    },
    {
      "cell_type": "code",
      "metadata": {
        "id": "FJvIbYNcRe0y",
        "colab_type": "code",
        "colab": {
          "base_uri": "https://localhost:8080/",
          "height": 84
        },
        "outputId": "43df1a3a-4aa4-4a37-b20a-68e5cca70562"
      },
      "source": [
        "download_xray()"
      ],
      "execution_count": 34,
      "outputs": [
        {
          "output_type": "stream",
          "text": [
            "cp: cannot stat 'kaggle.json': No such file or directory\n",
            "Downloading sample.zip to /content/gdrive/My Drive/Minor Project/data/chest_xrays/raw/images\n",
            " 40% 864M/2.10G [00:07<00:11, 116MB/s]\n",
            "User cancelled operation\n"
          ],
          "name": "stdout"
        }
      ]
    }
  ]
}